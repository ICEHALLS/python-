{
 "cells": [
  {
   "cell_type": "code",
   "execution_count": 81,
   "id": "19491ff9-c351-45e0-a6bf-a3857746f965",
   "metadata": {},
   "outputs": [
    {
     "name": "stdout",
     "output_type": "stream",
     "text": [
      "=== Programa para Calcular Derivadas ===\n"
     ]
    },
    {
     "name": "stdin",
     "output_type": "stream",
     "text": [
      "Digite a expressão a ser derivada:  (sin(theta)**2) / ((1 - 0.9 * cos(theta))**5)\n",
      "Digite a variável de derivação (ex: x, theta, etc.):  theta\n"
     ]
    },
    {
     "name": "stdout",
     "output_type": "stream",
     "text": [
      "\n",
      "A derivada de (sin(theta)**2) / ((1 - 0.9 * cos(theta))**5) em relação a theta é: (-2.7*sin(theta)**2 + 2.0*cos(theta) - 1.8)*sin(theta)/(0.9*cos(theta) - 1.0)**6\n"
     ]
    }
   ],
   "source": [
    "import sympy as sp\n",
    "\n",
    "def calcular_derivada(expressao, variavel):\n",
    "    # Converte a entrada para uma expressão simbólica\n",
    "    funcao = sp.sympify(expressao)\n",
    "    var = sp.symbols(variavel)\n",
    "    \n",
    "    # Calcula a derivada da expressão em relação à variável fornecida\n",
    "    derivada = sp.diff(funcao, var)\n",
    "    derivada_simplificada = sp.simplify(derivada)\n",
    "    \n",
    "    return derivada_simplificada\n",
    "\n",
    "def main():\n",
    "    print(\"=== Programa para Calcular Derivadas ===\")\n",
    "    expressao = input(\"Digite a expressão a ser derivada: \")\n",
    "    variavel = input(\"Digite a variável de derivação (ex: x, theta, etc.): \")\n",
    "    \n",
    "    try:\n",
    "        resultado = calcular_derivada(expressao, variavel)\n",
    "        print(f\"\\nA derivada de {expressao} em relação a {variavel} é: {resultado}\")\n",
    "    except Exception as e:\n",
    "        print(f\"Erro ao calcular a derivada: {e}\")\n",
    "\n",
    "if __name__ == \"__main__\":\n",
    "    main()"
   ]
  },
  {
   "cell_type": "code",
   "execution_count": 96,
   "id": "84f29fb9-d3e9-4ddd-88d6-4603c930ce84",
   "metadata": {},
   "outputs": [
    {
     "data": {
      "text/latex": [
       "$\\displaystyle \\frac{\\left(- 2.7 \\sin^{2}{\\left(\\theta \\right)} + 2.0 \\cos{\\left(\\theta \\right)} - 1.8\\right) \\sin{\\left(\\theta \\right)}}{\\left(0.9 \\cos{\\left(\\theta \\right)} - 1.0\\right)^{6}}$"
      ],
      "text/plain": [
       "⎛         2                      ⎞       \n",
       "⎝- 2.7⋅sin (θ) + 2.0⋅cos(θ) - 1.8⎠⋅sin(θ)\n",
       "─────────────────────────────────────────\n",
       "                             6           \n",
       "           (0.9⋅cos(θ) - 1.0)            "
      ]
     },
     "metadata": {},
     "output_type": "display_data"
    }
   ],
   "source": [
    "import sympy as sp\n",
    "from sympy import init_printing, symbols, sin, cos\n",
    "\n",
    "# Inicializando a exibição de impressão bonita com LaTeX\n",
    "init_printing(use_latex='mathjax')\n",
    "\n",
    "# Definindo a variável simbólica\n",
    "theta = symbols('theta')\n",
    "\n",
    "# Definindo a expressão fornecida\n",
    "expressao = (-2.7 * sin(theta)**2 + 2.0 * cos(theta) - 1.8) * sin(theta) / (0.9 * cos(theta) - 1.0)**6\n",
    "\n",
    "# Usando display para exibir a expressão de forma bonita\n",
    "display(expressao)"
   ]
  },
  {
   "cell_type": "code",
   "execution_count": null,
   "id": "84d9bef0-98da-4563-a757-ec722379f9ee",
   "metadata": {},
   "outputs": [],
   "source": []
  },
  {
   "cell_type": "code",
   "execution_count": null,
   "id": "2cfc2224-6518-434d-9ceb-be6f6979dbdb",
   "metadata": {},
   "outputs": [],
   "source": []
  },
  
